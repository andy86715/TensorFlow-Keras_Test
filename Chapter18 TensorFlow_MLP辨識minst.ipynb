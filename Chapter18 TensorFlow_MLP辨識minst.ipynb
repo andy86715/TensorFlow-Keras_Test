{
 "cells": [
  {
   "cell_type": "code",
   "execution_count": 1,
   "metadata": {
    "collapsed": false
   },
   "outputs": [
    {
     "name": "stderr",
     "output_type": "stream",
     "text": [
      "/Users/andy/anaconda/lib/python3.6/site-packages/h5py/__init__.py:34: FutureWarning: Conversion of the second argument of issubdtype from `float` to `np.floating` is deprecated. In future, it will be treated as `np.float64 == np.dtype(float).type`.\n",
      "  from ._conv import register_converters as _register_converters\n"
     ]
    }
   ],
   "source": [
    "import tensorflow as tf"
   ]
  },
  {
   "cell_type": "markdown",
   "metadata": {},
   "source": [
    "## Load data"
   ]
  },
  {
   "cell_type": "code",
   "execution_count": 2,
   "metadata": {
    "collapsed": false
   },
   "outputs": [
    {
     "name": "stdout",
     "output_type": "stream",
     "text": [
      "Extracting MNIST_data/train-images-idx3-ubyte.gz\n",
      "Extracting MNIST_data/train-labels-idx1-ubyte.gz\n",
      "Extracting MNIST_data/t10k-images-idx3-ubyte.gz\n",
      "Extracting MNIST_data/t10k-labels-idx1-ubyte.gz\n"
     ]
    }
   ],
   "source": [
    "import tensorflow.examples.tutorials.mnist.input_data as input_data\n",
    "mnist = input_data.read_data_sets(\"MNIST_data/\", one_hot=True)"
   ]
  },
  {
   "cell_type": "code",
   "execution_count": 3,
   "metadata": {
    "collapsed": false
   },
   "outputs": [
    {
     "name": "stdout",
     "output_type": "stream",
     "text": [
      "train 55000 ,validation 5000 ,test 10000\n"
     ]
    }
   ],
   "source": [
    "# 查看資料\n",
    "print('train',mnist.train.num_examples,\n",
    "      ',validation',mnist.validation.num_examples,\n",
    "      ',test',mnist.test.num_examples)"
   ]
  },
  {
   "cell_type": "code",
   "execution_count": 4,
   "metadata": {
    "collapsed": false
   },
   "outputs": [
    {
     "name": "stdout",
     "output_type": "stream",
     "text": [
      "train images : (55000, 784) labels: (55000, 10)\n"
     ]
    }
   ],
   "source": [
    "# 查看訓練資料\n",
    "print('train images :', mnist.train.images.shape,\n",
    "      'labels:', mnist.train.labels.shape)"
   ]
  },
  {
   "cell_type": "code",
   "execution_count": 5,
   "metadata": {
    "collapsed": false
   },
   "outputs": [
    {
     "data": {
      "text/plain": [
       "784"
      ]
     },
     "execution_count": 5,
     "metadata": {},
     "output_type": "execute_result"
    }
   ],
   "source": [
    "len(mnist.train.images[0])"
   ]
  },
  {
   "cell_type": "markdown",
   "metadata": {},
   "source": [
    "## 建立模型"
   ]
  },
  {
   "cell_type": "code",
   "execution_count": 6,
   "metadata": {
    "collapsed": true
   },
   "outputs": [],
   "source": [
    "def layer(output_dim, input_dim, inputs, activation=None):\n",
    "    W = tf.Variable(tf.random_normal([input_dim, output_dim]))\n",
    "    b = tf.Variable(tf.random_normal([1, output_dim]))\n",
    "    XWb = tf.matmul(inputs, W) + b\n",
    "    if activation is None: # 如果沒有傳入激活函數就不使用\n",
    "        outputs = XWb\n",
    "    else:\n",
    "        outputs = activation(XWb)\n",
    "    return outputs"
   ]
  },
  {
   "cell_type": "code",
   "execution_count": 7,
   "metadata": {
    "collapsed": true
   },
   "outputs": [],
   "source": [
    "# 建立輸出層X\n",
    "x = tf.placeholder('float', [None, 784])"
   ]
  },
  {
   "cell_type": "code",
   "execution_count": 8,
   "metadata": {
    "collapsed": true
   },
   "outputs": [],
   "source": [
    "# 建立隱藏層h1\n",
    "h1 = layer(output_dim=256, input_dim=784, inputs=x, activation=tf.nn.relu)"
   ]
  },
  {
   "cell_type": "code",
   "execution_count": 9,
   "metadata": {
    "collapsed": false
   },
   "outputs": [],
   "source": [
    "# 建立輸出層y\n",
    "y_predict = layer(output_dim=10, input_dim=256, inputs=h1, activation=None)"
   ]
  },
  {
   "cell_type": "markdown",
   "metadata": {},
   "source": [
    "## 定義訓練方式"
   ]
  },
  {
   "cell_type": "code",
   "execution_count": 10,
   "metadata": {
    "collapsed": true
   },
   "outputs": [],
   "source": [
    "# 定義真實值\n",
    "y_label = tf.placeholder('float', [None, 10])"
   ]
  },
  {
   "cell_type": "code",
   "execution_count": 11,
   "metadata": {
    "collapsed": false
   },
   "outputs": [
    {
     "name": "stdout",
     "output_type": "stream",
     "text": [
      "WARNING:tensorflow:From <ipython-input-11-29e31045d39c>:3: softmax_cross_entropy_with_logits (from tensorflow.python.ops.nn_ops) is deprecated and will be removed in a future version.\n",
      "Instructions for updating:\n",
      "\n",
      "Future major versions of TensorFlow will allow gradients to flow\n",
      "into the labels input on backprop by default.\n",
      "\n",
      "See tf.nn.softmax_cross_entropy_with_logits_v2.\n",
      "\n"
     ]
    }
   ],
   "source": [
    "# 定義loss function\n",
    "# reduce mean將結果計算成平均\n",
    "loss_function = tf.reduce_mean(tf.nn.softmax_cross_entropy_with_logits(logits=y_predict, labels=y_label))"
   ]
  },
  {
   "cell_type": "code",
   "execution_count": 12,
   "metadata": {
    "collapsed": false
   },
   "outputs": [],
   "source": [
    "# 定義optimizer最優化方法，梯度下降法\n",
    "optimizer = tf.train.AdamOptimizer(learning_rate=0.001).minimize(loss_function)"
   ]
  },
  {
   "cell_type": "markdown",
   "metadata": {},
   "source": [
    "## 定義模型評估準確率"
   ]
  },
  {
   "cell_type": "code",
   "execution_count": 13,
   "metadata": {
    "collapsed": true
   },
   "outputs": [],
   "source": [
    "# tf equal判斷兩者值是否相等，相等回傳1, 不相等回傳0\n",
    "# 真實和預測值因都被轉成one hot encoding，使用tf argmax轉回數字0~9\n",
    "# Ex. 000000100 -> 7\n",
    "correct_prediction = tf.equal(tf.argmax(y_label, 1), tf.argmax(y_predict, 1))"
   ]
  },
  {
   "cell_type": "code",
   "execution_count": 14,
   "metadata": {
    "collapsed": true
   },
   "outputs": [],
   "source": [
    "# 計算平均正確率\n",
    "# tf cast轉換為float\n",
    "accuracy = tf.reduce_mean(tf.cast(correct_prediction, 'float'))"
   ]
  },
  {
   "cell_type": "markdown",
   "metadata": {},
   "source": [
    "## 進行訓練"
   ]
  },
  {
   "cell_type": "code",
   "execution_count": 15,
   "metadata": {
    "collapsed": false
   },
   "outputs": [],
   "source": [
    "# 定義訓練參數\n",
    "from time import time\n",
    "trainEpochs = 15\n",
    "batchSize = 100\n",
    "totalBatchs = int(mnist.train.num_examples/batchSize) # 55000/100\n",
    "loss_list, epoch_list, accuracy_list = [], [], []\n",
    "startTime = time()\n",
    "\n",
    "sess = tf.Session()\n",
    "sess.run(tf.global_variables_initializer())"
   ]
  },
  {
   "cell_type": "code",
   "execution_count": 16,
   "metadata": {
    "collapsed": false,
    "scrolled": false
   },
   "outputs": [
    {
     "name": "stdout",
     "output_type": "stream",
     "text": [
      "Train Epoch: 01 Loss= 6.772115707  Accuracy= 0.8432\n",
      "Train Epoch: 02 Loss= 4.377612591  Accuracy= 0.8862\n",
      "Train Epoch: 03 Loss= 3.353326559  Accuracy= 0.905\n",
      "Train Epoch: 04 Loss= 2.768825293  Accuracy= 0.918\n",
      "Train Epoch: 05 Loss= 2.345301628  Accuracy= 0.923\n",
      "Train Epoch: 06 Loss= 2.069664955  Accuracy= 0.928\n",
      "Train Epoch: 07 Loss= 1.874539018  Accuracy= 0.933\n",
      "Train Epoch: 08 Loss= 1.744543791  Accuracy= 0.9328\n",
      "Train Epoch: 09 Loss= 1.645446301  Accuracy= 0.9364\n",
      "Train Epoch: 10 Loss= 1.576458693  Accuracy= 0.9362\n",
      "Train Epoch: 11 Loss= 1.456022263  Accuracy= 0.9388\n",
      "Train Epoch: 12 Loss= 1.441389561  Accuracy= 0.942\n",
      "Train Epoch: 13 Loss= 1.384347796  Accuracy= 0.9424\n",
      "Train Epoch: 14 Loss= 1.308917522  Accuracy= 0.9424\n",
      "Train Epoch: 15 Loss= 1.311075449  Accuracy= 0.9426\n",
      "Train Finished takes: 24.129290103912354\n"
     ]
    }
   ],
   "source": [
    "# 進行訓練\n",
    "for epoch in range(trainEpochs): # 執行15次epoch訓練週期\n",
    "    for i in range(totalBatchs):  # 每一個epoch執行550批次訓練\n",
    "        batch_x, batch_y = mnist.train.next_batch(batchSize)\n",
    "        sess.run(optimizer, feed_dict={x: batch_x, y_label: batch_y})\n",
    "        \n",
    "    loss,acc = sess.run([loss_function,accuracy], feed_dict={x: mnist.validation.images, \n",
    "                                                             y_label: mnist.validation.labels})\n",
    "\n",
    "    epoch_list.append(epoch);loss_list.append(loss)\n",
    "    accuracy_list.append(acc)    \n",
    "    print(\"Train Epoch:\", '%02d' % (epoch+1), \"Loss=\", \"{:.9f}\".format(loss),\" Accuracy=\",acc)\n",
    "    \n",
    "duration =time()-startTime\n",
    "print(\"Train Finished takes:\",duration)      "
   ]
  },
  {
   "cell_type": "code",
   "execution_count": 17,
   "metadata": {
    "collapsed": false
   },
   "outputs": [
    {
     "data": {
      "image/png": "[encoded data removed]",
      "text/plain": [
       "<Figure size 576x288 with 1 Axes>"
      ]
     },
     "metadata": {},
     "output_type": "display_data"
    }
   ],
   "source": [
    "import matplotlib.pyplot as plt\n",
    "plt.plot(epoch_list, loss_list, label = 'loss')\n",
    "plt.gcf().set_size_inches(8,4)\n",
    "plt.ylabel('loss')\n",
    "plt.xlabel('epoch')\n",
    "plt.legend(['loss'], loc='upper left')\n",
    "plt.show()"
   ]
  },
  {
   "cell_type": "code",
   "execution_count": 18,
   "metadata": {
    "collapsed": false
   },
   "outputs": [
    {
     "data": {
      "image/png": "[encoded data removed]",
      "text/plain": [
       "<Figure size 576x288 with 1 Axes>"
      ]
     },
     "metadata": {},
     "output_type": "display_data"
    }
   ],
   "source": [
    "plt.plot(epoch_list, accuracy_list, label = 'accuracy')\n",
    "plt.gcf().set_size_inches(8,4)\n",
    "plt.ylim(0.8,1)\n",
    "plt.ylabel('accuracy')\n",
    "plt.xlabel('epoch')\n",
    "plt.legend(['accuracy'], loc='upper left')\n",
    "plt.show()"
   ]
  },
  {
   "cell_type": "markdown",
   "metadata": {},
   "source": [
    "## 評估模型準確率"
   ]
  },
  {
   "cell_type": "code",
   "execution_count": 19,
   "metadata": {
    "collapsed": false
   },
   "outputs": [
    {
     "name": "stdout",
     "output_type": "stream",
     "text": [
      "Accuracy 0.9436\n"
     ]
    }
   ],
   "source": [
    "print('Accuracy', sess.run(accuracy, feed_dict={x: mnist.test.images, y_label: mnist.test.labels}))"
   ]
  },
  {
   "cell_type": "markdown",
   "metadata": {},
   "source": [
    "## 進行預測"
   ]
  },
  {
   "cell_type": "code",
   "execution_count": 20,
   "metadata": {
    "collapsed": false
   },
   "outputs": [],
   "source": [
    "# tf argmax將one hot encoding轉回數字0~9\n",
    "prediction_result = sess.run(tf.argmax(y_predict, 1), feed_dict={x: mnist.test.images})"
   ]
  },
  {
   "cell_type": "code",
   "execution_count": 21,
   "metadata": {
    "collapsed": false
   },
   "outputs": [
    {
     "data": {
      "text/plain": [
       "array([7, 2, 1, 0, 4, 1, 4, 9, 6, 9])"
      ]
     },
     "execution_count": 21,
     "metadata": {},
     "output_type": "execute_result"
    }
   ],
   "source": [
    "prediction_result[:10]"
   ]
  },
  {
   "cell_type": "code",
   "execution_count": 22,
   "metadata": {
    "collapsed": true
   },
   "outputs": [],
   "source": [
    "import numpy as np\n",
    "def plot_images_labels_prediction(images,labels,prediction,idx,num=10): #傳入參數數字影像、真實值、預測結果、開始顯示資料、資料筆數\n",
    "    fig = plt.gcf()\n",
    "    fig.set_size_inches(12, 14)\n",
    "    if num>25:\n",
    "        num=25 \n",
    "    for i in range(0, num):\n",
    "        ax=plt.subplot(5,5, 1+i) #建立subgraph子圖形為5行5列\n",
    "        ax.imshow(np.reshape(images[idx],(28, 28)), cmap='binary') #畫出subgraph\n",
    "        title= \"label=\" +str(np.argmax(labels[idx])) #設定title,顯示標籤\n",
    "        if len(prediction)>0:\n",
    "            title+=\",predict=\"+str(prediction[idx]) #如果有傳入預測結果，title加入預設結果\n",
    "        ax.set_title(title,fontsize=10)  #設定title與大小\n",
    "        ax.set_xticks([]) #不顯示刻度\n",
    "        ax.set_yticks([])     \n",
    "        idx+=1 #讀取下一筆\n",
    "    plt.show()"
   ]
  },
  {
   "cell_type": "code",
   "execution_count": 23,
   "metadata": {
    "collapsed": false
   },
   "outputs": [
    {
     "data": {
      "image/png": "[encoded data removed]",
      "text/plain": [
       "<Figure size 864x1008 with 10 Axes>"
      ]
     },
     "metadata": {},
     "output_type": "display_data"
    }
   ],
   "source": [
    "plot_images_labels_prediction(mnist.test.images, mnist.test.labels, prediction_result, 0)"
   ]
  },
  {
   "cell_type": "markdown",
   "metadata": {},
   "source": [
    "## 隱藏層加入更多神經元"
   ]
  },
  {
   "cell_type": "code",
   "execution_count": 24,
   "metadata": {
    "collapsed": false,
    "scrolled": false
   },
   "outputs": [
    {
     "name": "stdout",
     "output_type": "stream",
     "text": [
      "Train Epoch: 01 Loss= 1.259173393  Accuracy= 0.9436\n",
      "Train Epoch: 02 Loss= 1.292226553  Accuracy= 0.9444\n",
      "Train Epoch: 03 Loss= 1.228118300  Accuracy= 0.9468\n",
      "Train Epoch: 04 Loss= 1.179702759  Accuracy= 0.9464\n",
      "Train Epoch: 05 Loss= 1.156015515  Accuracy= 0.9468\n",
      "Train Epoch: 06 Loss= 1.125302553  Accuracy= 0.948\n",
      "Train Epoch: 07 Loss= 1.150424004  Accuracy= 0.948\n",
      "Train Epoch: 08 Loss= 1.163359165  Accuracy= 0.9464\n",
      "Train Epoch: 09 Loss= 1.163047314  Accuracy= 0.9508\n",
      "Train Epoch: 10 Loss= 1.135181308  Accuracy= 0.9484\n",
      "Train Epoch: 11 Loss= 1.119867325  Accuracy= 0.9484\n",
      "Train Epoch: 12 Loss= 1.095458388  Accuracy= 0.9518\n",
      "Train Epoch: 13 Loss= 1.059702158  Accuracy= 0.952\n",
      "Train Epoch: 14 Loss= 1.110637069  Accuracy= 0.9524\n",
      "Train Epoch: 15 Loss= 1.105031013  Accuracy= 0.9498\n",
      "Train Finished takes: 72.99324107170105\n"
     ]
    }
   ],
   "source": [
    "# 建立輸出層X\n",
    "x = tf.placeholder('float', [None, 784])\n",
    "\n",
    "# 修改隱藏層h1，輸出1000神經元\n",
    "h1 = layer(output_dim=1000, input_dim=784, inputs=x, activation=tf.nn.relu)\n",
    "\n",
    "# 修改輸出層y，輸入1000神經元\n",
    "y_predict = layer(output_dim=10, input_dim=1000, inputs=h1, activation=None)\n",
    "\n",
    "# 進行訓練\n",
    "for epoch in range(trainEpochs):\n",
    "    for i in range(totalBatchs):\n",
    "        batch_x, batch_y = mnist.train.next_batch(batchSize)\n",
    "        sess.run(optimizer, feed_dict={x: batch_x, y_label: batch_y})\n",
    "        \n",
    "    loss,acc = sess.run([loss_function,accuracy], feed_dict={x: mnist.validation.images, \n",
    "                                                             y_label: mnist.validation.labels})\n",
    "\n",
    "    epoch_list.append(epoch);loss_list.append(loss)\n",
    "    accuracy_list.append(acc)    \n",
    "    print(\"Train Epoch:\", '%02d' % (epoch+1), \"Loss=\", \"{:.9f}\".format(loss),\" Accuracy=\",acc)\n",
    "    \n",
    "duration =time()-startTime\n",
    "print(\"Train Finished takes:\",duration)      "
   ]
  },
  {
   "cell_type": "code",
   "execution_count": 25,
   "metadata": {
    "collapsed": false,
    "scrolled": false
   },
   "outputs": [
    {
     "name": "stdout",
     "output_type": "stream",
     "text": [
      "Accuracy 0.9527\n"
     ]
    }
   ],
   "source": [
    "print('Accuracy', sess.run(accuracy, feed_dict={x: mnist.test.images, y_label: mnist.test.labels}))"
   ]
  },
  {
   "cell_type": "markdown",
   "metadata": {
    "collapsed": true
   },
   "source": [
    "## 修改包含兩層隱藏層"
   ]
  },
  {
   "cell_type": "code",
   "execution_count": 26,
   "metadata": {
    "collapsed": false
   },
   "outputs": [
    {
     "name": "stdout",
     "output_type": "stream",
     "text": [
      "Train Epoch: 01 Loss= 1.044228911  Accuracy= 0.954\n",
      "Train Epoch: 02 Loss= 1.062959909  Accuracy= 0.952\n",
      "Train Epoch: 03 Loss= 1.085288167  Accuracy= 0.9546\n",
      "Train Epoch: 04 Loss= 1.026239753  Accuracy= 0.9556\n",
      "Train Epoch: 05 Loss= 1.085622072  Accuracy= 0.9556\n",
      "Train Epoch: 06 Loss= 1.028707623  Accuracy= 0.9558\n",
      "Train Epoch: 07 Loss= 1.059377789  Accuracy= 0.9532\n",
      "Train Epoch: 08 Loss= 1.025367141  Accuracy= 0.9536\n",
      "Train Epoch: 09 Loss= 0.985770047  Accuracy= 0.9566\n",
      "Train Epoch: 10 Loss= 1.034458160  Accuracy= 0.9566\n",
      "Train Epoch: 11 Loss= 1.034474611  Accuracy= 0.9586\n",
      "Train Epoch: 12 Loss= 0.975581825  Accuracy= 0.9586\n",
      "Train Epoch: 13 Loss= 1.006340981  Accuracy= 0.957\n",
      "Train Epoch: 14 Loss= 1.009364009  Accuracy= 0.9558\n",
      "Train Epoch: 15 Loss= 1.022672296  Accuracy= 0.957\n",
      "Train Finished takes: 250.46569800376892\n"
     ]
    }
   ],
   "source": [
    "# 建立輸出層X\n",
    "x = tf.placeholder('float', [None, 784])\n",
    "\n",
    "# 建立隱藏層h1\n",
    "h1 = layer(output_dim=1000, input_dim=784, inputs=x, activation=tf.nn.relu)\n",
    "\n",
    "# 建立隱藏層h2\n",
    "h2 = layer(output_dim=1000, input_dim=1000, inputs=h1, activation=tf.nn.relu)\n",
    "\n",
    "# 修改input為h2\n",
    "y_predict = layer(output_dim=10, input_dim=1000, inputs=h2, activation=None)\n",
    "\n",
    "# 進行訓練\n",
    "for epoch in range(trainEpochs):\n",
    "    for i in range(totalBatchs):\n",
    "        batch_x, batch_y = mnist.train.next_batch(batchSize)\n",
    "        sess.run(optimizer, feed_dict={x: batch_x, y_label: batch_y})\n",
    "        \n",
    "    loss,acc = sess.run([loss_function,accuracy], feed_dict={x: mnist.validation.images, \n",
    "                                                             y_label: mnist.validation.labels})\n",
    "\n",
    "    epoch_list.append(epoch);loss_list.append(loss)\n",
    "    accuracy_list.append(acc)    \n",
    "    print(\"Train Epoch:\", '%02d' % (epoch+1), \"Loss=\", \"{:.9f}\".format(loss),\" Accuracy=\",acc)\n",
    "    \n",
    "duration =time()-startTime\n",
    "print(\"Train Finished takes:\",duration)      "
   ]
  },
  {
   "cell_type": "code",
   "execution_count": 27,
   "metadata": {
    "collapsed": false
   },
   "outputs": [
    {
     "name": "stdout",
     "output_type": "stream",
     "text": [
      "Accuracy 0.9557\n"
     ]
    }
   ],
   "source": [
    "print('Accuracy', sess.run(accuracy, feed_dict={x: mnist.test.images, y_label: mnist.test.labels}))"
   ]
  },
  {
   "cell_type": "code",
   "execution_count": null,
   "metadata": {
    "collapsed": true
   },
   "outputs": [],
   "source": []
  }
 ],
 "metadata": {
  "kernelspec": {
   "display_name": "Python 3",
   "language": "python",
   "name": "python3"
  },
  "language_info": {
   "codemirror_mode": {
    "name": "ipython",
    "version": 3
   },
   "file_extension": ".py",
   "mimetype": "text/x-python",
   "name": "python",
   "nbconvert_exporter": "python",
   "pygments_lexer": "ipython3",
   "version": "3.6.3"
  }
 },
 "nbformat": 4,
 "nbformat_minor": 2
}
